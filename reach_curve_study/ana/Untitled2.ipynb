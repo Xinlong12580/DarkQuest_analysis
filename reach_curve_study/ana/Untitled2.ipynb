{
 "cells": [
  {
   "cell_type": "code",
   "execution_count": 1,
   "id": "af6a3e05",
   "metadata": {},
   "outputs": [
    {
     "name": "stdout",
     "output_type": "stream",
     "text": [
      "Welcome to JupyROOT 6.30/02\n"
     ]
    }
   ],
   "source": [
    "import ROOT"
   ]
  },
  {
   "cell_type": "code",
   "execution_count": 2,
   "id": "59a92b6e",
   "metadata": {},
   "outputs": [],
   "source": [
    "file=ROOT.TFile.Open(\"reco_Brem_0.001100_z500_600_eps_-4.5.txt.root\")"
   ]
  },
  {
   "cell_type": "code",
   "execution_count": 3,
   "id": "ba1e8d40",
   "metadata": {},
   "outputs": [],
   "source": [
    "tree=file.Events"
   ]
  },
  {
   "cell_type": "code",
   "execution_count": 5,
   "id": "e8a35c87",
   "metadata": {},
   "outputs": [
    {
     "data": {
      "text/plain": [
       "True"
      ]
     },
     "execution_count": 5,
     "metadata": {},
     "output_type": "execute_result"
    }
   ],
   "source": [
    "ROOT.gInterpreter.Declare(\"\"\"\n",
    "    int with2hits(int n,ROOT::VecOps::RVec<Float_t> dep,ROOT::VecOps::RVec<Int_t> ID) { \\\n",
    "         int count = 0; \\\n",
    "         for (int i=0;i<n;i++) { \\\n",
    "             if (dep[i] > 0.1 && ID[i]==100) { \\\n",
    "                 count++; \\\n",
    "             } \\\n",
    "             if (count >= 2) { \\\n",
    "                 return true; \\\n",
    "             } \\\n",
    "         } \\\n",
    "         return false; \\\n",
    "     }\n",
    "\"\"\")"
   ]
  },
  {
   "cell_type": "code",
   "execution_count": 7,
   "id": "3da6d60e",
   "metadata": {},
   "outputs": [
    {
     "name": "stdout",
     "output_type": "stream",
     "text": [
      "9822\n"
     ]
    }
   ],
   "source": [
    "rdf=ROOT.RDataFrame(\"Events\",\"reco_Brem_0.001100_z500_600_eps_-4.5.txt.root\")\n",
    "reco_eff=rdf.Filter(\"with2hits(n_hits,hit_edep,hit_detID)\").Count().GetValue()\n",
    "print(reco_eff)\n"
   ]
  },
  {
   "cell_type": "code",
   "execution_count": 4,
   "id": "bb132382",
   "metadata": {},
   "outputs": [
    {
     "data": {
      "text/plain": [
       "0.3312"
      ]
     },
     "execution_count": 4,
     "metadata": {},
     "output_type": "execute_result"
    }
   ],
   "source": [
    "reco_eff"
   ]
  },
  {
   "cell_type": "code",
   "execution_count": 8,
   "id": "68102ae9",
   "metadata": {
    "scrolled": false
   },
   "outputs": [
    {
     "name": "stdout",
     "output_type": "stream",
     "text": [
      "9822\n"
     ]
    }
   ],
   "source": [
    "count=0\n",
    "j=0\n",
    "for entry in tree:\n",
    "    j=j+1\n",
    "    #print(j)\n",
    "    #print(entry.gedep_ecal[i])\n",
    "    c=0\n",
    "    for hit_d in entry.hit_edep:     \n",
    "        if hit_d>0.1 and hit_d<1000:\n",
    "            c=c+1\n",
    "    if c>=2:\n",
    "        count=count+1\n",
    "        \n",
    "print(count)"
   ]
  },
  {
   "cell_type": "code",
   "execution_count": null,
   "id": "dee0cf68",
   "metadata": {},
   "outputs": [],
   "source": []
  }
 ],
 "metadata": {
  "kernelspec": {
   "display_name": "Python 3 (ipykernel)",
   "language": "python",
   "name": "python3"
  },
  "language_info": {
   "codemirror_mode": {
    "name": "ipython",
    "version": 3
   },
   "file_extension": ".py",
   "mimetype": "text/x-python",
   "name": "python",
   "nbconvert_exporter": "python",
   "pygments_lexer": "ipython3",
   "version": "3.9.12"
  }
 },
 "nbformat": 4,
 "nbformat_minor": 5
}
