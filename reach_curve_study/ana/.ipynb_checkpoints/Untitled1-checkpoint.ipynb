{
 "cells": [
  {
   "cell_type": "code",
   "execution_count": null,
   "id": "2052a416",
   "metadata": {},
   "outputs": [],
   "source": [
    "file=ROOT.TFile.Ope"
   ]
  }
 ],
 "metadata": {
  "kernelspec": {
   "display_name": "ROOT C++",
   "language": "c++",
   "name": "root"
  }
 },
 "nbformat": 4,
 "nbformat_minor": 5
}
